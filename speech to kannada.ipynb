{
 "cells": [
  {
   "cell_type": "code",
   "execution_count": 1,
   "id": "e266005f",
   "metadata": {},
   "outputs": [],
   "source": [
    "import speech_recognition as sr"
   ]
  },
  {
   "cell_type": "code",
   "execution_count": 2,
   "id": "7446ae2d",
   "metadata": {},
   "outputs": [],
   "source": [
    "recognizer = sr.Recognizer()"
   ]
  },
  {
   "cell_type": "code",
   "execution_count": 3,
   "id": "c61c84ef",
   "metadata": {},
   "outputs": [
    {
     "name": "stdout",
     "output_type": "stream",
     "text": [
      "Please speak now\n",
      "Analysing...\n",
      "Did you say: ಸ್ಪೀಚ್ ರೆಕಾಗ್ನಿಶನ್\n"
     ]
    }
   ],
   "source": [
    "with sr.Microphone() as inputs:\n",
    "    print(\"Please speak now\")\n",
    "    listening = recognizer.listen(inputs)\n",
    "    print(\"Analysing...\")\n",
    "    try:\n",
    "        print(\"Did you say: \"+recognizer.recognize_google(listening,language = \"kn-IN\"))\n",
    "    except:\n",
    "         print(\"please speak again\")"
   ]
  },
  {
   "cell_type": "code",
   "execution_count": null,
   "id": "3dc1dfdf",
   "metadata": {},
   "outputs": [],
   "source": []
  }
 ],
 "metadata": {
  "kernelspec": {
   "display_name": "Python 3 (ipykernel)",
   "language": "python",
   "name": "python3"
  },
  "language_info": {
   "codemirror_mode": {
    "name": "ipython",
    "version": 3
   },
   "file_extension": ".py",
   "mimetype": "text/x-python",
   "name": "python",
   "nbconvert_exporter": "python",
   "pygments_lexer": "ipython3",
   "version": "3.9.4"
  }
 },
 "nbformat": 4,
 "nbformat_minor": 5
}
