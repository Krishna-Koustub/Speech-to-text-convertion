{
 "cells": [
  {
   "cell_type": "code",
   "execution_count": 8,
   "id": "e219f0ba",
   "metadata": {},
   "outputs": [],
   "source": [
    "import os\n",
    "from gtts import gTTS\n"
   ]
  },
  {
   "cell_type": "code",
   "execution_count": 9,
   "id": "74d0323e",
   "metadata": {},
   "outputs": [],
   "source": [
    "Text = \"I love Django central and Python programming Language\"\n"
   ]
  },
  {
   "cell_type": "code",
   "execution_count": 10,
   "id": "22f5224a",
   "metadata": {},
   "outputs": [
    {
     "name": "stdout",
     "output_type": "stream",
     "text": [
      "please wait...processing\n"
     ]
    }
   ],
   "source": [
    "print(\"please wait...processing\")\n",
    "TTS = gTTS(text=Text, lang='te-IN')"
   ]
  },
  {
   "cell_type": "code",
   "execution_count": 11,
   "id": "ccd01be5",
   "metadata": {},
   "outputs": [],
   "source": [
    "TTS.save(\"voice.mp3\")"
   ]
  },
  {
   "cell_type": "code",
   "execution_count": 12,
   "id": "402b2208",
   "metadata": {},
   "outputs": [
    {
     "data": {
      "text/plain": [
       "0"
      ]
     },
     "execution_count": 12,
     "metadata": {},
     "output_type": "execute_result"
    }
   ],
   "source": [
    "os.system(\"start voice.mp3\")"
   ]
  },
  {
   "cell_type": "code",
   "execution_count": null,
   "id": "0ecb3b49",
   "metadata": {},
   "outputs": [],
   "source": []
  }
 ],
 "metadata": {
  "kernelspec": {
   "display_name": "Python 3 (ipykernel)",
   "language": "python",
   "name": "python3"
  },
  "language_info": {
   "codemirror_mode": {
    "name": "ipython",
    "version": 3
   },
   "file_extension": ".py",
   "mimetype": "text/x-python",
   "name": "python",
   "nbconvert_exporter": "python",
   "pygments_lexer": "ipython3",
   "version": "3.9.4"
  }
 },
 "nbformat": 4,
 "nbformat_minor": 5
}
