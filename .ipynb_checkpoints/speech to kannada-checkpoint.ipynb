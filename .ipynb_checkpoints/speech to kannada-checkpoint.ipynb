{
 "cells": [
  {
   "cell_type": "code",
   "execution_count": 1,
   "id": "7459e8d9",
   "metadata": {},
   "outputs": [],
   "source": [
    "import speech_recognition as sr"
   ]
  },
  {
   "cell_type": "code",
   "execution_count": 2,
   "id": "5df2d37c",
   "metadata": {},
   "outputs": [],
   "source": [
    "recognizer = sr.Recognizer()"
   ]
  },
  {
   "cell_type": "code",
   "execution_count": null,
   "id": "9cbce64d",
   "metadata": {},
   "outputs": [],
   "source": [
    "with sr.Microphone() as inputs:\n",
    "    print(\"Please speak now\")\n",
    "    listening = recognizer.listen(inputs)\n",
    "    print(\"Analysing...\")\n",
    "    try:\n",
    "        print(\"Did you say: \"+recognizer.recognize_google(listening,language = \"kn-IN\"))\n",
    "    except:\n",
    "         print(\"please speak again\")"
   ]
  },
  {
   "cell_type": "code",
   "execution_count": null,
   "id": "2d6fc1ca",
   "metadata": {},
   "outputs": [],
   "source": []
  }
 ],
 "metadata": {
  "kernelspec": {
   "display_name": "Python 3 (ipykernel)",
   "language": "python",
   "name": "python3"
  },
  "language_info": {
   "codemirror_mode": {
    "name": "ipython",
    "version": 3
   },
   "file_extension": ".py",
   "mimetype": "text/x-python",
   "name": "python",
   "nbconvert_exporter": "python",
   "pygments_lexer": "ipython3",
   "version": "3.9.4"
  }
 },
 "nbformat": 4,
 "nbformat_minor": 5
}
