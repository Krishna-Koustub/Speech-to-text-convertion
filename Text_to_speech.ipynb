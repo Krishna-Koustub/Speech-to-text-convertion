{
 "cells": [
  {
   "cell_type": "code",
   "execution_count": 1,
   "id": "530111a8",
   "metadata": {},
   "outputs": [],
   "source": [
    "import os\n",
    "from gtts import gTTS"
   ]
  },
  {
   "cell_type": "code",
   "execution_count": 2,
   "id": "b519d786",
   "metadata": {},
   "outputs": [
    {
     "name": "stdout",
     "output_type": "stream",
     "text": [
      "please wait...processing\n"
     ]
    }
   ],
   "source": [
    "FLIST = open(\"text.txt\", \"r\").read().replace(\"\\n\", \" \")\n",
    "print(\"please wait...processing\")\n",
    "TTS = gTTS(text=str(FLIST), lang='en-uk')\n"
   ]
  },
  {
   "cell_type": "code",
   "execution_count": 3,
   "id": "6a68f299",
   "metadata": {},
   "outputs": [],
   "source": [
    "TTS.save(\"voice.mp3\")"
   ]
  },
  {
   "cell_type": "code",
   "execution_count": 4,
   "id": "2a240c7d",
   "metadata": {},
   "outputs": [
    {
     "name": "stdout",
     "output_type": "stream",
     "text": [
      "Every night in my dreams I see you, I feel you, That is how I know you go on Far across the distance And spaces between us You have come to show you go on Near, far, wherever you are I believe that the heart does go on Once more you open the door And you're here in my heart And my heart will go on and on Love can touch us one time And last for a lifetime And never let go till we're one Love was when I loved you One true time I hold to In my life we'll always go on Near, far, wherever you are I believe that the heart does go on Once more you open the door And you're here in my heart And my heart will go on and on There is some love that will not go away You're here, there's nothing I fear, And I know that my heart will go on We'll stay forever this way You are safe in my heart And my heart will go on and on \n"
     ]
    },
    {
     "data": {
      "text/plain": [
       "0"
      ]
     },
     "execution_count": 4,
     "metadata": {},
     "output_type": "execute_result"
    }
   ],
   "source": [
    "print(FLIST)\n",
    "os.system(\"start voice.mp3\")"
   ]
  },
  {
   "cell_type": "code",
   "execution_count": null,
   "id": "b0444e82",
   "metadata": {},
   "outputs": [],
   "source": []
  }
 ],
 "metadata": {
  "kernelspec": {
   "display_name": "Python 3 (ipykernel)",
   "language": "python",
   "name": "python3"
  },
  "language_info": {
   "codemirror_mode": {
    "name": "ipython",
    "version": 3
   },
   "file_extension": ".py",
   "mimetype": "text/x-python",
   "name": "python",
   "nbconvert_exporter": "python",
   "pygments_lexer": "ipython3",
   "version": "3.9.4"
  }
 },
 "nbformat": 4,
 "nbformat_minor": 5
}
